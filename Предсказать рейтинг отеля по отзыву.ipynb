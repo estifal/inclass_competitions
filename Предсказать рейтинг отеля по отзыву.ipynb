{
 "cells": [
  {
   "cell_type": "code",
   "execution_count": 62,
   "metadata": {},
   "outputs": [],
   "source": [
    "import warnings\n",
    "warnings.filterwarnings('ignore')\n",
    "\n",
    "import pandas as pd\n",
    "import numpy as np\n",
    "\n",
    "import seaborn as sns\n",
    "%config InlineBackend.figure_format = 'svg'\n",
    "\n",
    "import string\n",
    "import re\n",
    "\n",
    "from sklearn.pipeline import Pipeline\n",
    "from catboost import CatBoostRegressor\n",
    "from sklearn.metrics import mean_squared_error"
   ]
  },
  {
   "cell_type": "code",
   "execution_count": 7,
   "metadata": {},
   "outputs": [],
   "source": [
    "df_main_train = pd.read_csv('nlp_train.csv', encoding='ISO-8859-1', index_col='Id')\n",
    "test = pd.read_csv('nlp_test.csv', encoding='ISO-8859-1', index_col='Id')"
   ]
  },
  {
   "cell_type": "code",
   "execution_count": 8,
   "metadata": {},
   "outputs": [
    {
     "name": "stdout",
     "output_type": "stream",
     "text": [
      "<class 'pandas.core.frame.DataFrame'>\n",
      "Int64Index: 2351 entries, 0 to 2350\n",
      "Data columns (total 4 columns):\n",
      " #   Column        Non-Null Count  Dtype  \n",
      "---  ------        --------------  -----  \n",
      " 0   Hotel_name    2351 non-null   object \n",
      " 1   Review_Title  2136 non-null   object \n",
      " 2   Review_Text   2351 non-null   object \n",
      " 3   Rating        2351 non-null   float64\n",
      "dtypes: float64(1), object(3)\n",
      "memory usage: 91.8+ KB\n"
     ]
    }
   ],
   "source": [
    "df_main_train.info()"
   ]
  },
  {
   "cell_type": "code",
   "execution_count": 35,
   "metadata": {},
   "outputs": [],
   "source": [
    "df = df_main_train.copy()"
   ]
  },
  {
   "cell_type": "code",
   "execution_count": 36,
   "metadata": {},
   "outputs": [],
   "source": [
    "df.fillna({'Review_Title': '0'}, inplace = True)"
   ]
  },
  {
   "cell_type": "code",
   "execution_count": 37,
   "metadata": {},
   "outputs": [],
   "source": [
    "negs = list(pd.read_csv('negative-words.txt', encoding='ISO-8859-1').iloc[:, 0])\n",
    "poss = list(pd.read_csv('positive-words.txt', encoding='ISO-8859-1').iloc[:, 0])"
   ]
  },
  {
   "cell_type": "code",
   "execution_count": 38,
   "metadata": {},
   "outputs": [],
   "source": [
    "#Почистим от лишних слов отзывы и заголовки\n",
    "\n",
    "from nltk.corpus import stopwords\n",
    "sw_eng = set(stopwords.words('english')) - set(['no', 'not'])"
   ]
  },
  {
   "cell_type": "code",
   "execution_count": 39,
   "metadata": {},
   "outputs": [
    {
     "data": {
      "application/vnd.jupyter.widget-view+json": {
       "model_id": "b5501f2b2f7a4d77a9277439db2a91a6",
       "version_major": 2,
       "version_minor": 0
      },
      "text/plain": [
       "HBox(children=(HTML(value=''), FloatProgress(value=0.0, max=2351.0), HTML(value='')))"
      ]
     },
     "metadata": {},
     "output_type": "display_data"
    },
    {
     "name": "stdout",
     "output_type": "stream",
     "text": [
      "\n"
     ]
    }
   ],
   "source": [
    "for i in tqdm(range(2351)):\n",
    "    df['Review_Text'][i] = ' '.join([word for word in df['Review_Text'][i].lower().split() if not word in sw_eng])"
   ]
  },
  {
   "cell_type": "code",
   "execution_count": 40,
   "metadata": {},
   "outputs": [
    {
     "data": {
      "application/vnd.jupyter.widget-view+json": {
       "model_id": "cda77f3fdff34cf48e0a63c40e628746",
       "version_major": 2,
       "version_minor": 0
      },
      "text/plain": [
       "HBox(children=(HTML(value=''), FloatProgress(value=0.0, max=2351.0), HTML(value='')))"
      ]
     },
     "metadata": {},
     "output_type": "display_data"
    },
    {
     "name": "stdout",
     "output_type": "stream",
     "text": [
      "\n"
     ]
    }
   ],
   "source": [
    "for i in tqdm(range(2351)):\n",
    "    df['Review_Title'][i] = ' '.join([word for word in df['Review_Title'][i].lower().split() if not word in sw_eng])"
   ]
  },
  {
   "cell_type": "code",
   "execution_count": 41,
   "metadata": {},
   "outputs": [],
   "source": [
    "def cleaning_str(that_string):\n",
    "    void = ''\n",
    "    w = re.split(r'[;,\\s.?!:-]', that_string)\n",
    "    for token in w:\n",
    "        if token == '':\n",
    "            w.remove(token)\n",
    "    w = ' '.join([word for word in w])\n",
    "    return w"
   ]
  },
  {
   "cell_type": "code",
   "execution_count": 42,
   "metadata": {},
   "outputs": [],
   "source": [
    "puncts = [] \n",
    "for stri in df['Review_Text']:\n",
    "    for _ in stri:\n",
    "        if _ in string.punctuation:\n",
    "            puncts.append(_)\n",
    "for stri in df['Review_Title']:\n",
    "    for _ in stri:\n",
    "        if _ in string.punctuation:\n",
    "            puncts.append(_)\n",
    "puncts = set(puncts)"
   ]
  },
  {
   "cell_type": "code",
   "execution_count": 43,
   "metadata": {},
   "outputs": [],
   "source": [
    "for sep in puncts:\n",
    "    df['Review_Title'] = df['Review_Title'].apply(lambda x: x.replace(sep, \"\"))\n",
    "    df['Review_Text'] = df['Review_Text'].apply(lambda x: x.replace(sep, \"\"))   "
   ]
  },
  {
   "cell_type": "code",
   "execution_count": 44,
   "metadata": {},
   "outputs": [
    {
     "data": {
      "application/vnd.jupyter.widget-view+json": {
       "model_id": "14157b42e59f455983dad98d9bd2cd3e",
       "version_major": 2,
       "version_minor": 0
      },
      "text/plain": [
       "HBox(children=(HTML(value=''), FloatProgress(value=0.0, max=2351.0), HTML(value='')))"
      ]
     },
     "metadata": {},
     "output_type": "display_data"
    },
    {
     "name": "stdout",
     "output_type": "stream",
     "text": [
      "\n"
     ]
    }
   ],
   "source": [
    "#Посчитаю доли хороших и плохих слов в тексте отзыва\n",
    "\n",
    "text_pos_share = []\n",
    "text_neg_share = []\n",
    "text_words_number = []\n",
    "from tqdm.notebook import tqdm\n",
    "\n",
    "for that_string in tqdm(df['Review_Text']):\n",
    "    pos_count = 0\n",
    "    neg_count = 0\n",
    "    words_count = 0\n",
    "    for word in that_string.split():\n",
    "        if word in poss:\n",
    "            pos_count += 1\n",
    "        if word in negs:\n",
    "            neg_count += 1\n",
    "        words_count += 1\n",
    "    if words_count == 0:\n",
    "        text_pos_share.append(0)\n",
    "        text_neg_share.append(0)\n",
    "        text_words_number.append(0)\n",
    "    else:\n",
    "        text_pos_share.append(pos_count / words_count)\n",
    "        text_neg_share.append(neg_count / words_count)\n",
    "        text_words_number.append(words_count)"
   ]
  },
  {
   "cell_type": "code",
   "execution_count": 45,
   "metadata": {},
   "outputs": [
    {
     "data": {
      "application/vnd.jupyter.widget-view+json": {
       "model_id": "2793d9803702401aafbb753d1adeeba9",
       "version_major": 2,
       "version_minor": 0
      },
      "text/plain": [
       "HBox(children=(HTML(value=''), FloatProgress(value=0.0, max=2351.0), HTML(value='')))"
      ]
     },
     "metadata": {},
     "output_type": "display_data"
    },
    {
     "name": "stdout",
     "output_type": "stream",
     "text": [
      "\n"
     ]
    }
   ],
   "source": [
    "#Посчитаю доли хороших и плохих слов в заголовке отзыва\n",
    "\n",
    "title_pos_share = []\n",
    "title_neg_share = []\n",
    "title_words_number = []\n",
    "\n",
    "for that_string in tqdm(df['Review_Title']):\n",
    "    pos_count = 0\n",
    "    neg_count = 0\n",
    "    words_count = 0\n",
    "    for word in that_string.split():\n",
    "        if word in poss:\n",
    "            pos_count += 1\n",
    "        if word in negs:\n",
    "            neg_count += 1\n",
    "        words_count += 1\n",
    "    if words_count == 0:\n",
    "        title_pos_share.append(0)\n",
    "        title_neg_share.append(0)\n",
    "        title_words_number.append(words_count)\n",
    "    else:\n",
    "        title_pos_share.append(pos_count / words_count)\n",
    "        title_neg_share.append(neg_count / words_count)\n",
    "        title_words_number.append(words_count)"
   ]
  },
  {
   "cell_type": "markdown",
   "metadata": {},
   "source": [
    "**Прим.:** Если делать фичи \"кол-во хороших/плохих слов\" и \"кол-во слов всего\" в тексте/заголовке вместо долей, то MSE получается больше"
   ]
  },
  {
   "cell_type": "code",
   "execution_count": 46,
   "metadata": {},
   "outputs": [],
   "source": [
    "df['text_pos_share'] = text_pos_share\n",
    "df['text_neg_share'] = text_neg_share\n",
    "df['title_pos_share'] = title_pos_share\n",
    "df['title_neg_share'] = title_neg_share\n",
    "df['text_words_number'] =  text_words_number\n",
    "df['title_words_number'] =  title_words_number"
   ]
  },
  {
   "cell_type": "markdown",
   "metadata": {},
   "source": [
    "**Лемматизация**"
   ]
  },
  {
   "cell_type": "code",
   "execution_count": 47,
   "metadata": {},
   "outputs": [],
   "source": [
    "from nltk import wordnet, pos_tag\n",
    "def get_wordnet_pos(treebank_tag):\n",
    "    my_switch = {\n",
    "        'J': wordnet.wordnet.ADJ,\n",
    "        'V': wordnet.wordnet.VERB,\n",
    "        'N': wordnet.wordnet.NOUN,\n",
    "        'R': wordnet.wordnet.ADV,\n",
    "    }\n",
    "    for key, item in my_switch.items():\n",
    "        if treebank_tag.startswith(key):\n",
    "            return item\n",
    "    return wordnet.wordnet.NOUN"
   ]
  },
  {
   "cell_type": "code",
   "execution_count": 48,
   "metadata": {},
   "outputs": [],
   "source": [
    "from nltk import WordNetLemmatizer\n",
    "def my_lemmatizer(sent):\n",
    "    lemmatizer = WordNetLemmatizer()\n",
    "    tokenized_sent = sent.split()\n",
    "    pos_tagged = [(word, get_wordnet_pos(tag))\n",
    "                 for word, tag in pos_tag(tokenized_sent)]\n",
    "    return ' '.join([lemmatizer.lemmatize(word, tag)\n",
    "                    for word, tag in pos_tagged])"
   ]
  },
  {
   "cell_type": "code",
   "execution_count": 49,
   "metadata": {},
   "outputs": [],
   "source": [
    "df['Review_Text']=df['Review_Text'].apply(lambda x: my_lemmatizer(x))\n",
    "df['Review_Title']=df['Review_Title'].apply(lambda x: my_lemmatizer(x))"
   ]
  },
  {
   "cell_type": "code",
   "execution_count": 50,
   "metadata": {},
   "outputs": [],
   "source": [
    "from sklearn.preprocessing import LabelEncoder, OneHotEncoder\n",
    "le = LabelEncoder()\n",
    "df['Hotel_name'] = le.fit_transform(df['Hotel_name'])"
   ]
  },
  {
   "cell_type": "code",
   "execution_count": 51,
   "metadata": {},
   "outputs": [],
   "source": [
    "from sklearn.feature_extraction.text import TfidfVectorizer\n",
    "from sklearn.preprocessing import StandardScaler"
   ]
  },
  {
   "cell_type": "code",
   "execution_count": 52,
   "metadata": {},
   "outputs": [],
   "source": [
    "X = df.drop(['Rating', 'title_words_number','text_words_number' ], axis=1)\n",
    "y = df['Rating']"
   ]
  },
  {
   "cell_type": "code",
   "execution_count": 53,
   "metadata": {},
   "outputs": [],
   "source": [
    "from sklearn.model_selection import train_test_split\n",
    "X_train, X_test, y_train, y_test = train_test_split(X, y, test_size=0.25, random_state=42)"
   ]
  },
  {
   "cell_type": "code",
   "execution_count": 54,
   "metadata": {},
   "outputs": [
    {
     "data": {
      "text/html": [
       "<div>\n",
       "<style scoped>\n",
       "    .dataframe tbody tr th:only-of-type {\n",
       "        vertical-align: middle;\n",
       "    }\n",
       "\n",
       "    .dataframe tbody tr th {\n",
       "        vertical-align: top;\n",
       "    }\n",
       "\n",
       "    .dataframe thead th {\n",
       "        text-align: right;\n",
       "    }\n",
       "</style>\n",
       "<table border=\"1\" class=\"dataframe\">\n",
       "  <thead>\n",
       "    <tr style=\"text-align: right;\">\n",
       "      <th></th>\n",
       "      <th>Hotel_name</th>\n",
       "      <th>Review_Title</th>\n",
       "      <th>Review_Text</th>\n",
       "      <th>text_pos_share</th>\n",
       "      <th>text_neg_share</th>\n",
       "      <th>title_pos_share</th>\n",
       "      <th>title_neg_share</th>\n",
       "    </tr>\n",
       "    <tr>\n",
       "      <th>Id</th>\n",
       "      <th></th>\n",
       "      <th></th>\n",
       "      <th></th>\n",
       "      <th></th>\n",
       "      <th></th>\n",
       "      <th></th>\n",
       "      <th></th>\n",
       "    </tr>\n",
       "  </thead>\n",
       "  <tbody>\n",
       "    <tr>\n",
       "      <th>1547</th>\n",
       "      <td>141</td>\n",
       "      <td>clean big room</td>\n",
       "      <td>arrive late night thailand look forward drink ...</td>\n",
       "      <td>0.137931</td>\n",
       "      <td>0.103448</td>\n",
       "      <td>0.333333</td>\n",
       "      <td>0.000000</td>\n",
       "    </tr>\n",
       "    <tr>\n",
       "      <th>1917</th>\n",
       "      <td>163</td>\n",
       "      <td>low price hotel high quality</td>\n",
       "      <td>notice many change hotel check process smooth ...</td>\n",
       "      <td>0.162162</td>\n",
       "      <td>0.000000</td>\n",
       "      <td>0.000000</td>\n",
       "      <td>0.000000</td>\n",
       "    </tr>\n",
       "    <tr>\n",
       "      <th>543</th>\n",
       "      <td>235</td>\n",
       "      <td>bad place stay</td>\n",
       "      <td>many mosquito late check in warm room fridge n...</td>\n",
       "      <td>0.070175</td>\n",
       "      <td>0.070175</td>\n",
       "      <td>0.000000</td>\n",
       "      <td>0.333333</td>\n",
       "    </tr>\n",
       "    <tr>\n",
       "      <th>1535</th>\n",
       "      <td>55</td>\n",
       "      <td>near place go engag</td>\n",
       "      <td>stay hotel comfortable transport easily available</td>\n",
       "      <td>0.333333</td>\n",
       "      <td>0.000000</td>\n",
       "      <td>0.000000</td>\n",
       "      <td>0.000000</td>\n",
       "    </tr>\n",
       "    <tr>\n",
       "      <th>494</th>\n",
       "      <td>188</td>\n",
       "      <td>overall good stay clean room</td>\n",
       "      <td>stay good overall stay three day location good...</td>\n",
       "      <td>0.384615</td>\n",
       "      <td>0.000000</td>\n",
       "      <td>0.400000</td>\n",
       "      <td>0.000000</td>\n",
       "    </tr>\n",
       "    <tr>\n",
       "      <th>...</th>\n",
       "      <td>...</td>\n",
       "      <td>...</td>\n",
       "      <td>...</td>\n",
       "      <td>...</td>\n",
       "      <td>...</td>\n",
       "      <td>...</td>\n",
       "      <td>...</td>\n",
       "    </tr>\n",
       "    <tr>\n",
       "      <th>1638</th>\n",
       "      <td>57</td>\n",
       "      <td>poor maintenance</td>\n",
       "      <td>room look like old small poorly maintain found...</td>\n",
       "      <td>0.085714</td>\n",
       "      <td>0.057143</td>\n",
       "      <td>0.000000</td>\n",
       "      <td>0.500000</td>\n",
       "    </tr>\n",
       "    <tr>\n",
       "      <th>1095</th>\n",
       "      <td>216</td>\n",
       "      <td>0</td>\n",
       "      <td>great experience really good hotel professiona...</td>\n",
       "      <td>0.333333</td>\n",
       "      <td>0.000000</td>\n",
       "      <td>0.000000</td>\n",
       "      <td>0.000000</td>\n",
       "    </tr>\n",
       "    <tr>\n",
       "      <th>1130</th>\n",
       "      <td>170</td>\n",
       "      <td>average stay</td>\n",
       "      <td>hotel locate within 1 km chennai central stati...</td>\n",
       "      <td>0.040000</td>\n",
       "      <td>0.040000</td>\n",
       "      <td>0.000000</td>\n",
       "      <td>0.000000</td>\n",
       "    </tr>\n",
       "    <tr>\n",
       "      <th>1294</th>\n",
       "      <td>67</td>\n",
       "      <td>poor resort please go</td>\n",
       "      <td>room old poor no value money food start minimu...</td>\n",
       "      <td>0.133333</td>\n",
       "      <td>0.133333</td>\n",
       "      <td>0.000000</td>\n",
       "      <td>0.250000</td>\n",
       "    </tr>\n",
       "    <tr>\n",
       "      <th>860</th>\n",
       "      <td>26</td>\n",
       "      <td>hotel not expedia</td>\n",
       "      <td>reach hotel find share common entrance crowd r...</td>\n",
       "      <td>0.023810</td>\n",
       "      <td>0.047619</td>\n",
       "      <td>0.000000</td>\n",
       "      <td>0.000000</td>\n",
       "    </tr>\n",
       "  </tbody>\n",
       "</table>\n",
       "<p>1763 rows × 7 columns</p>\n",
       "</div>"
      ],
      "text/plain": [
       "      Hotel_name                  Review_Title  \\\n",
       "Id                                               \n",
       "1547         141                clean big room   \n",
       "1917         163  low price hotel high quality   \n",
       "543          235                bad place stay   \n",
       "1535          55           near place go engag   \n",
       "494          188  overall good stay clean room   \n",
       "...          ...                           ...   \n",
       "1638          57              poor maintenance   \n",
       "1095         216                             0   \n",
       "1130         170                  average stay   \n",
       "1294          67         poor resort please go   \n",
       "860           26             hotel not expedia   \n",
       "\n",
       "                                            Review_Text  text_pos_share  \\\n",
       "Id                                                                        \n",
       "1547  arrive late night thailand look forward drink ...        0.137931   \n",
       "1917  notice many change hotel check process smooth ...        0.162162   \n",
       "543   many mosquito late check in warm room fridge n...        0.070175   \n",
       "1535  stay hotel comfortable transport easily available        0.333333   \n",
       "494   stay good overall stay three day location good...        0.384615   \n",
       "...                                                 ...             ...   \n",
       "1638  room look like old small poorly maintain found...        0.085714   \n",
       "1095  great experience really good hotel professiona...        0.333333   \n",
       "1130  hotel locate within 1 km chennai central stati...        0.040000   \n",
       "1294  room old poor no value money food start minimu...        0.133333   \n",
       "860   reach hotel find share common entrance crowd r...        0.023810   \n",
       "\n",
       "      text_neg_share  title_pos_share  title_neg_share  \n",
       "Id                                                      \n",
       "1547        0.103448         0.333333         0.000000  \n",
       "1917        0.000000         0.000000         0.000000  \n",
       "543         0.070175         0.000000         0.333333  \n",
       "1535        0.000000         0.000000         0.000000  \n",
       "494         0.000000         0.400000         0.000000  \n",
       "...              ...              ...              ...  \n",
       "1638        0.057143         0.000000         0.500000  \n",
       "1095        0.000000         0.000000         0.000000  \n",
       "1130        0.040000         0.000000         0.000000  \n",
       "1294        0.133333         0.000000         0.250000  \n",
       "860         0.047619         0.000000         0.000000  \n",
       "\n",
       "[1763 rows x 7 columns]"
      ]
     },
     "execution_count": 54,
     "metadata": {},
     "output_type": "execute_result"
    }
   ],
   "source": [
    "X_train"
   ]
  },
  {
   "cell_type": "markdown",
   "metadata": {},
   "source": [
    "Не буду лукавить, код с пайпланами **взял** у Никиты, который давеча делился ноутбуком по этой домашке на каггле. Просто у меня ни в какую не хотели модели работать с преобразованными по **TF-IDF** текстами, выходило вот такое и модель ругалась на **это**:"
   ]
  },
  {
   "cell_type": "code",
   "execution_count": 55,
   "metadata": {},
   "outputs": [
    {
     "data": {
      "image/jpeg": "[encoded data removed]",
      "text/plain": [
       "<IPython.core.display.Image object>"
      ]
     },
     "execution_count": 55,
     "metadata": {},
     "output_type": "execute_result"
    }
   ],
   "source": [
    "from IPython.display import Image\n",
    "Image(filename='trouble.jpg')"
   ]
  },
  {
   "cell_type": "code",
   "execution_count": 56,
   "metadata": {},
   "outputs": [],
   "source": [
    "from sklearn.base import BaseEstimator, TransformerMixin\n",
    "\n",
    "class TextSelector(BaseEstimator, TransformerMixin):\n",
    "    \"\"\"\n",
    "    Transformer to select a single column from the data frame to perform additional transformations on\n",
    "    Use on text columns in the data\n",
    "    \"\"\"\n",
    "    def __init__(self, key):\n",
    "        self.key = key\n",
    "\n",
    "    def fit(self, X, y=None):\n",
    "        return self\n",
    "\n",
    "    def transform(self, X):\n",
    "        return X[self.key]\n",
    "    \n",
    "class NumberSelector(BaseEstimator, TransformerMixin):\n",
    "    \"\"\"\n",
    "    Transformer to select a single column from the data frame to perform additional transformations on\n",
    "    Use on numeric columns in the data\n",
    "    \"\"\"\n",
    "    def __init__(self, key):\n",
    "        self.key = key\n",
    "\n",
    "    def fit(self, X, y=None):\n",
    "        return self\n",
    "\n",
    "    def transform(self, X):\n",
    "        return X[[self.key]]"
   ]
  },
  {
   "cell_type": "code",
   "execution_count": 57,
   "metadata": {},
   "outputs": [
    {
     "data": {
      "text/plain": [
       "<1763x3857 sparse matrix of type '<class 'numpy.float64'>'\n",
       "\twith 10931 stored elements in Compressed Sparse Row format>"
      ]
     },
     "execution_count": 57,
     "metadata": {},
     "output_type": "execute_result"
    }
   ],
   "source": [
    "text1 = Pipeline([\n",
    "                ('selector', TextSelector(key='Review_Text')),\n",
    "                ('counter', TfidfVectorizer(analyzer='word', token_pattern=r'\\w{1,}', max_features=5000, ngram_range=(1, 1)))\n",
    "            ])\n",
    "\n",
    "text1.fit_transform(X_train)\n",
    "\n",
    "text2 = Pipeline([\n",
    "                ('selector', TextSelector(key='Review_Title')),\n",
    "                ('counter', TfidfVectorizer(analyzer='word', token_pattern=r'\\w{1,}', max_features=5000, ngram_range=(1, 3)))\n",
    "            ])\n",
    "\n",
    "text2.fit_transform(X_train)"
   ]
  },
  {
   "cell_type": "code",
   "execution_count": 58,
   "metadata": {},
   "outputs": [],
   "source": [
    "text_pos_share =  Pipeline([\n",
    "                ('selector', NumberSelector(key='text_pos_share')),\n",
    "                ('standard', StandardScaler())\n",
    "            ])\n",
    "\n",
    "text_neg_share =  Pipeline([\n",
    "                ('selector', NumberSelector(key='text_neg_share')),\n",
    "                ('standard', StandardScaler())\n",
    "            ])\n",
    "\n",
    "title_pos_share =  Pipeline([\n",
    "                ('selector', NumberSelector(key='title_pos_share')),\n",
    "                ('standard', StandardScaler())\n",
    "            ])\n",
    "\n",
    "title_neg_share =  Pipeline([\n",
    "                ('selector', NumberSelector(key='title_neg_share')),\n",
    "                ('standard', StandardScaler())\n",
    "            ])"
   ]
  },
  {
   "cell_type": "code",
   "execution_count": 59,
   "metadata": {},
   "outputs": [
    {
     "data": {
      "text/plain": [
       "<1763x7554 sparse matrix of type '<class 'numpy.float64'>'\n",
       "\twith 51764 stored elements in Compressed Sparse Row format>"
      ]
     },
     "execution_count": 59,
     "metadata": {},
     "output_type": "execute_result"
    }
   ],
   "source": [
    "from sklearn.pipeline import FeatureUnion\n",
    "\n",
    "feats = FeatureUnion([('Review_Title', text1), \n",
    "                      ('Review_Text', text2),\n",
    "                     ('text_pos_share', text_pos_share),\n",
    "                     ('text_neg_share', text_neg_share),\n",
    "                     ('title_pos_share', title_pos_share),\n",
    "                     ('title_neg_share', title_neg_share)])\n",
    "\n",
    "feature_processing = Pipeline([('feats', feats)])\n",
    "feature_processing.fit_transform(X_train)"
   ]
  },
  {
   "cell_type": "markdown",
   "metadata": {},
   "source": [
    "**Итоговый скор**"
   ]
  },
  {
   "cell_type": "code",
   "execution_count": 65,
   "metadata": {},
   "outputs": [
    {
     "data": {
      "text/plain": [
       "169.95266801917515"
      ]
     },
     "execution_count": 65,
     "metadata": {},
     "output_type": "execute_result"
    }
   ],
   "source": [
    "pipeline = Pipeline([\n",
    "    ('features',feats),\n",
    "    ('classifier', CatBoostRegressor(verbose=False)),\n",
    "])\n",
    "pipeline.fit(X_train, y_train)\n",
    "\n",
    "y_pred = pipeline.predict(X_test)\n",
    "mean_squared_error(y_test, y_pred)"
   ]
  },
  {
   "cell_type": "markdown",
   "metadata": {},
   "source": [
    "В чатике люди писали, что на сиде 42 mse получается ~179, у меня вышел 173,8. Я рад! Видимо, помогла более детальная обработка текста(чистил слова от точек и других знаков препинания, чтобы split() работал лучше. Пытался сплитить сразу по нескольким знакам препинания, но тогда в списке возникает '', который почему-то не хотел удаляться адекватно. Тогда он бы мог испортить мне всю статистику(кол-во слов в отзыве)"
   ]
  },
  {
   "cell_type": "code",
   "execution_count": null,
   "metadata": {},
   "outputs": [],
   "source": []
  }
 ],
 "metadata": {
  "kernelspec": {
   "display_name": "Python 3",
   "language": "python",
   "name": "python3"
  },
  "language_info": {
   "codemirror_mode": {
    "name": "ipython",
    "version": 3
   },
   "file_extension": ".py",
   "mimetype": "text/x-python",
   "name": "python",
   "nbconvert_exporter": "python",
   "pygments_lexer": "ipython3",
   "version": "3.8.5"
  }
 },
 "nbformat": 4,
 "nbformat_minor": 4
}
